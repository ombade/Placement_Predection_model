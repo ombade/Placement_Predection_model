{
 "cells": [
  {
   "cell_type": "code",
   "execution_count": 1,
   "id": "52780e16",
   "metadata": {
    "_cell_guid": "b1076dfc-b9ad-4769-8c92-a6c4dae69d19",
    "_uuid": "8f2839f25d086af736a60e9eeb907d3b93b6e0e5",
    "execution": {
     "iopub.execute_input": "2023-01-24T08:03:01.399013Z",
     "iopub.status.busy": "2023-01-24T08:03:01.398148Z",
     "iopub.status.idle": "2023-01-24T08:03:01.415982Z",
     "shell.execute_reply": "2023-01-24T08:03:01.414795Z"
    },
    "papermill": {
     "duration": 0.04221,
     "end_time": "2023-01-24T08:03:01.419363",
     "exception": false,
     "start_time": "2023-01-24T08:03:01.377153",
     "status": "completed"
    },
    "tags": []
   },
   "outputs": [
    {
     "name": "stdout",
     "output_type": "stream",
     "text": [
      "/kaggle/input/college-placement-data-set/Placement_Data_Full_Class.csv\n"
     ]
    }
   ],
   "source": [
    "# This Python 3 environment comes with many helpful analytics libraries installed\n",
    "# It is defined by the kaggle/python Docker image: https://github.com/kaggle/docker-python\n",
    "# For example, here's several helpful packages to load\n",
    "\n",
    "import numpy as np # linear algebra\n",
    "import pandas as pd # data processing, CSV file I/O (e.g. pd.read_csv)\n",
    "\n",
    "# Input data files are available in the read-only \"../input/\" directory\n",
    "# For example, running this (by clicking run or pressing Shift+Enter) will list all files under the input directory\n",
    "\n",
    "import os\n",
    "for dirname, _, filenames in os.walk('/kaggle/input'):\n",
    "    for filename in filenames:\n",
    "        print(os.path.join(dirname, filename))\n",
    "\n",
    "# You can write up to 20GB to the current directory (/kaggle/working/) that gets preserved as output when you create a version using \"Save & Run All\" \n",
    "# You can also write temporary files to /kaggle/temp/, but they won't be saved outside of the current session"
   ]
  },
  {
   "cell_type": "markdown",
   "id": "9841ee26",
   "metadata": {
    "papermill": {
     "duration": 0.015898,
     "end_time": "2023-01-24T08:03:01.450262",
     "exception": false,
     "start_time": "2023-01-24T08:03:01.434364",
     "status": "completed"
    },
    "tags": []
   },
   "source": [
    "# Index\n",
    "* **Reading csv File**\n",
    "* **Cleaning Data**\n",
    "* **EDA Using Univariate Analysis**\n",
    "1. * Countplot\n",
    "2. * Histplot\n",
    "3. * Kde\n",
    "4. * Piechart\n",
    "* **EDA Using Bivariate & Multivariate Analysis**\n",
    "1. * Scatterplot\n",
    "2. * Pairplot\n",
    "3. * Heatmap\n",
    "4. * Clustermap\n",
    "5. * Distplot\n",
    "6. * Barplot\n",
    "7. * Boxplot\n",
    "8. * Heatmap of corr\n",
    "9. * Clustermap of corr\n",
    "* **Simplify the Data**\n",
    "* **Train Test Split**\n",
    "* **Applying Decision Tree Classifier for Prediction**\n",
    "* **Got 86% Accuracy**"
   ]
  },
  {
   "cell_type": "markdown",
   "id": "8db5165b",
   "metadata": {
    "papermill": {
     "duration": 0.013858,
     "end_time": "2023-01-24T08:03:01.478573",
     "exception": false,
     "start_time": "2023-01-24T08:03:01.464715",
     "status": "completed"
    },
    "tags": []
   },
   "source": [
    "# Reading csv File"
   ]
  },
  {
   "cell_type": "code",
   "execution_count": 2,
   "id": "ec7bdd1b",
   "metadata": {
    "execution": {
     "iopub.execute_input": "2023-01-24T08:03:01.510985Z",
     "iopub.status.busy": "2023-01-24T08:03:01.510492Z",
     "iopub.status.idle": "2023-01-24T08:03:01.532179Z",
     "shell.execute_reply": "2023-01-24T08:03:01.530410Z"
    },
    "papermill": {
     "duration": 0.040644,
     "end_time": "2023-01-24T08:03:01.535347",
     "exception": false,
     "start_time": "2023-01-24T08:03:01.494703",
     "status": "completed"
    },
    "tags": []
   },
   "outputs": [],
   "source": [
    "df=pd.read_csv(\"/kaggle/input/college-placement-data-set/Placement_Data_Full_Class.csv\")"
   ]
  },
  {
   "cell_type": "code",
   "execution_count": 3,
   "id": "cac45cad",
   "metadata": {
    "execution": {
     "iopub.execute_input": "2023-01-24T08:03:01.568945Z",
     "iopub.status.busy": "2023-01-24T08:03:01.568427Z",
     "iopub.status.idle": "2023-01-24T08:03:01.606617Z",
     "shell.execute_reply": "2023-01-24T08:03:01.605200Z"
    },
    "papermill": {
     "duration": 0.059542,
     "end_time": "2023-01-24T08:03:01.610271",
     "exception": false,
     "start_time": "2023-01-24T08:03:01.550729",
     "status": "completed"
    },
    "tags": []
   },
   "outputs": [
    {
     "data": {
      "text/html": [
       "<div>\n",
       "<style scoped>\n",
       "    .dataframe tbody tr th:only-of-type {\n",
       "        vertical-align: middle;\n",
       "    }\n",
       "\n",
       "    .dataframe tbody tr th {\n",
       "        vertical-align: top;\n",
       "    }\n",
       "\n",
       "    .dataframe thead th {\n",
       "        text-align: right;\n",
       "    }\n",
       "</style>\n",
       "<table border=\"1\" class=\"dataframe\">\n",
       "  <thead>\n",
       "    <tr style=\"text-align: right;\">\n",
       "      <th></th>\n",
       "      <th>Sno</th>\n",
       "      <th>Gender</th>\n",
       "      <th>10th %</th>\n",
       "      <th>SSC Board</th>\n",
       "      <th>12th %</th>\n",
       "      <th>HSC Board</th>\n",
       "      <th>12th Stream</th>\n",
       "      <th>Degree %</th>\n",
       "      <th>Degree stream</th>\n",
       "      <th>Work exp</th>\n",
       "      <th>specialisation</th>\n",
       "      <th>Mba %</th>\n",
       "      <th>status</th>\n",
       "      <th>salary</th>\n",
       "    </tr>\n",
       "  </thead>\n",
       "  <tbody>\n",
       "    <tr>\n",
       "      <th>0</th>\n",
       "      <td>1</td>\n",
       "      <td>M</td>\n",
       "      <td>67.00</td>\n",
       "      <td>Others</td>\n",
       "      <td>91.00</td>\n",
       "      <td>Others</td>\n",
       "      <td>Commerce</td>\n",
       "      <td>58.00</td>\n",
       "      <td>Sci&amp;Tech</td>\n",
       "      <td>No</td>\n",
       "      <td>Mkt&amp;HR</td>\n",
       "      <td>58.80</td>\n",
       "      <td>Placed</td>\n",
       "      <td>270000.0</td>\n",
       "    </tr>\n",
       "    <tr>\n",
       "      <th>1</th>\n",
       "      <td>2</td>\n",
       "      <td>M</td>\n",
       "      <td>79.33</td>\n",
       "      <td>Central</td>\n",
       "      <td>78.33</td>\n",
       "      <td>Others</td>\n",
       "      <td>Science</td>\n",
       "      <td>77.48</td>\n",
       "      <td>Sci&amp;Tech</td>\n",
       "      <td>Yes</td>\n",
       "      <td>Mkt&amp;Fin</td>\n",
       "      <td>66.28</td>\n",
       "      <td>Placed</td>\n",
       "      <td>200000.0</td>\n",
       "    </tr>\n",
       "    <tr>\n",
       "      <th>2</th>\n",
       "      <td>3</td>\n",
       "      <td>M</td>\n",
       "      <td>65.00</td>\n",
       "      <td>Central</td>\n",
       "      <td>68.00</td>\n",
       "      <td>Central</td>\n",
       "      <td>Arts</td>\n",
       "      <td>64.00</td>\n",
       "      <td>Comm&amp;Mgmt</td>\n",
       "      <td>No</td>\n",
       "      <td>Mkt&amp;Fin</td>\n",
       "      <td>57.80</td>\n",
       "      <td>Placed</td>\n",
       "      <td>250000.0</td>\n",
       "    </tr>\n",
       "    <tr>\n",
       "      <th>3</th>\n",
       "      <td>4</td>\n",
       "      <td>M</td>\n",
       "      <td>56.00</td>\n",
       "      <td>Central</td>\n",
       "      <td>52.00</td>\n",
       "      <td>Central</td>\n",
       "      <td>Science</td>\n",
       "      <td>52.00</td>\n",
       "      <td>Sci&amp;Tech</td>\n",
       "      <td>No</td>\n",
       "      <td>Mkt&amp;HR</td>\n",
       "      <td>59.43</td>\n",
       "      <td>Not Placed</td>\n",
       "      <td>NaN</td>\n",
       "    </tr>\n",
       "    <tr>\n",
       "      <th>4</th>\n",
       "      <td>5</td>\n",
       "      <td>M</td>\n",
       "      <td>85.80</td>\n",
       "      <td>Central</td>\n",
       "      <td>73.60</td>\n",
       "      <td>Central</td>\n",
       "      <td>Commerce</td>\n",
       "      <td>73.30</td>\n",
       "      <td>Comm&amp;Mgmt</td>\n",
       "      <td>No</td>\n",
       "      <td>Mkt&amp;Fin</td>\n",
       "      <td>55.50</td>\n",
       "      <td>Placed</td>\n",
       "      <td>425000.0</td>\n",
       "    </tr>\n",
       "    <tr>\n",
       "      <th>5</th>\n",
       "      <td>6</td>\n",
       "      <td>M</td>\n",
       "      <td>55.00</td>\n",
       "      <td>Others</td>\n",
       "      <td>49.80</td>\n",
       "      <td>Others</td>\n",
       "      <td>Science</td>\n",
       "      <td>67.25</td>\n",
       "      <td>Sci&amp;Tech</td>\n",
       "      <td>Yes</td>\n",
       "      <td>Mkt&amp;Fin</td>\n",
       "      <td>51.58</td>\n",
       "      <td>Not Placed</td>\n",
       "      <td>NaN</td>\n",
       "    </tr>\n",
       "    <tr>\n",
       "      <th>6</th>\n",
       "      <td>7</td>\n",
       "      <td>F</td>\n",
       "      <td>46.00</td>\n",
       "      <td>Others</td>\n",
       "      <td>49.20</td>\n",
       "      <td>Others</td>\n",
       "      <td>Commerce</td>\n",
       "      <td>79.00</td>\n",
       "      <td>Comm&amp;Mgmt</td>\n",
       "      <td>No</td>\n",
       "      <td>Mkt&amp;Fin</td>\n",
       "      <td>53.29</td>\n",
       "      <td>Not Placed</td>\n",
       "      <td>NaN</td>\n",
       "    </tr>\n",
       "    <tr>\n",
       "      <th>7</th>\n",
       "      <td>8</td>\n",
       "      <td>M</td>\n",
       "      <td>82.00</td>\n",
       "      <td>Central</td>\n",
       "      <td>64.00</td>\n",
       "      <td>Central</td>\n",
       "      <td>Science</td>\n",
       "      <td>66.00</td>\n",
       "      <td>Sci&amp;Tech</td>\n",
       "      <td>Yes</td>\n",
       "      <td>Mkt&amp;Fin</td>\n",
       "      <td>62.14</td>\n",
       "      <td>Placed</td>\n",
       "      <td>252000.0</td>\n",
       "    </tr>\n",
       "    <tr>\n",
       "      <th>8</th>\n",
       "      <td>9</td>\n",
       "      <td>M</td>\n",
       "      <td>73.00</td>\n",
       "      <td>Central</td>\n",
       "      <td>79.00</td>\n",
       "      <td>Central</td>\n",
       "      <td>Commerce</td>\n",
       "      <td>72.00</td>\n",
       "      <td>Comm&amp;Mgmt</td>\n",
       "      <td>No</td>\n",
       "      <td>Mkt&amp;Fin</td>\n",
       "      <td>61.29</td>\n",
       "      <td>Placed</td>\n",
       "      <td>231000.0</td>\n",
       "    </tr>\n",
       "    <tr>\n",
       "      <th>9</th>\n",
       "      <td>10</td>\n",
       "      <td>M</td>\n",
       "      <td>58.00</td>\n",
       "      <td>Central</td>\n",
       "      <td>70.00</td>\n",
       "      <td>Central</td>\n",
       "      <td>Commerce</td>\n",
       "      <td>61.00</td>\n",
       "      <td>Comm&amp;Mgmt</td>\n",
       "      <td>No</td>\n",
       "      <td>Mkt&amp;Fin</td>\n",
       "      <td>52.21</td>\n",
       "      <td>Not Placed</td>\n",
       "      <td>NaN</td>\n",
       "    </tr>\n",
       "  </tbody>\n",
       "</table>\n",
       "</div>"
      ],
      "text/plain": [
       "   Sno Gender  10th % SSC Board  12th % HSC Board 12th Stream  Degree %  \\\n",
       "0    1      M   67.00    Others   91.00    Others    Commerce     58.00   \n",
       "1    2      M   79.33   Central   78.33    Others     Science     77.48   \n",
       "2    3      M   65.00   Central   68.00   Central        Arts     64.00   \n",
       "3    4      M   56.00   Central   52.00   Central     Science     52.00   \n",
       "4    5      M   85.80   Central   73.60   Central    Commerce     73.30   \n",
       "5    6      M   55.00    Others   49.80    Others     Science     67.25   \n",
       "6    7      F   46.00    Others   49.20    Others    Commerce     79.00   \n",
       "7    8      M   82.00   Central   64.00   Central     Science     66.00   \n",
       "8    9      M   73.00   Central   79.00   Central    Commerce     72.00   \n",
       "9   10      M   58.00   Central   70.00   Central    Commerce     61.00   \n",
       "\n",
       "  Degree stream Work exp specialisation  Mba %      status    salary  \n",
       "0      Sci&Tech       No         Mkt&HR  58.80      Placed  270000.0  \n",
       "1      Sci&Tech      Yes        Mkt&Fin  66.28      Placed  200000.0  \n",
       "2     Comm&Mgmt       No        Mkt&Fin  57.80      Placed  250000.0  \n",
       "3      Sci&Tech       No         Mkt&HR  59.43  Not Placed       NaN  \n",
       "4     Comm&Mgmt       No        Mkt&Fin  55.50      Placed  425000.0  \n",
       "5      Sci&Tech      Yes        Mkt&Fin  51.58  Not Placed       NaN  \n",
       "6     Comm&Mgmt       No        Mkt&Fin  53.29  Not Placed       NaN  \n",
       "7      Sci&Tech      Yes        Mkt&Fin  62.14      Placed  252000.0  \n",
       "8     Comm&Mgmt       No        Mkt&Fin  61.29      Placed  231000.0  \n",
       "9     Comm&Mgmt       No        Mkt&Fin  52.21  Not Placed       NaN  "
      ]
     },
     "execution_count": 3,
     "metadata": {},
     "output_type": "execute_result"
    }
   ],
   "source": [
    "df.head(10)"
   ]
  },
  {
   "cell_type": "markdown",
   "id": "b1813111",
   "metadata": {
    "papermill": {
     "duration": 0.014654,
     "end_time": "2023-01-24T08:03:01.640711",
     "exception": false,
     "start_time": "2023-01-24T08:03:01.626057",
     "status": "completed"
    },
    "tags": []
   },
   "source": [
    "# Cleaning Data"
   ]
  },
  {
   "cell_type": "code",
   "execution_count": 4,
   "id": "529e08a1",
   "metadata": {
    "execution": {
     "iopub.execute_input": "2023-01-24T08:03:01.673942Z",
     "iopub.status.busy": "2023-01-24T08:03:01.673440Z",
     "iopub.status.idle": "2023-01-24T08:03:01.688622Z",
     "shell.execute_reply": "2023-01-24T08:03:01.687090Z"
    },
    "papermill": {
     "duration": 0.035611,
     "end_time": "2023-01-24T08:03:01.691421",
     "exception": false,
     "start_time": "2023-01-24T08:03:01.655810",
     "status": "completed"
    },
    "tags": []
   },
   "outputs": [],
   "source": [
    "df=df.drop(columns=['Sno','salary'])"
   ]
  },
  {
   "cell_type": "code",
   "execution_count": 5,
   "id": "d5bda615",
   "metadata": {
    "execution": {
     "iopub.execute_input": "2023-01-24T08:03:01.725863Z",
     "iopub.status.busy": "2023-01-24T08:03:01.724939Z",
     "iopub.status.idle": "2023-01-24T08:03:01.736326Z",
     "shell.execute_reply": "2023-01-24T08:03:01.734920Z"
    },
    "papermill": {
     "duration": 0.03238,
     "end_time": "2023-01-24T08:03:01.738985",
     "exception": false,
     "start_time": "2023-01-24T08:03:01.706605",
     "status": "completed"
    },
    "tags": []
   },
   "outputs": [
    {
     "data": {
      "text/plain": [
       "Gender            0\n",
       "10th %            0\n",
       "SSC Board         0\n",
       "12th %            0\n",
       "HSC Board         0\n",
       "12th Stream       0\n",
       "Degree %          0\n",
       "Degree stream     0\n",
       "Work exp          0\n",
       "specialisation    0\n",
       "Mba %             0\n",
       "status            0\n",
       "dtype: int64"
      ]
     },
     "execution_count": 5,
     "metadata": {},
     "output_type": "execute_result"
    }
   ],
   "source": [
    "df.isnull().sum()"
   ]
  },
  {
   "cell_type": "code",
   "execution_count": 6,
   "id": "58aa96b2",
   "metadata": {
    "execution": {
     "iopub.execute_input": "2023-01-24T08:03:01.772896Z",
     "iopub.status.busy": "2023-01-24T08:03:01.772402Z",
     "iopub.status.idle": "2023-01-24T08:03:03.268030Z",
     "shell.execute_reply": "2023-01-24T08:03:03.266654Z"
    },
    "papermill": {
     "duration": 1.516167,
     "end_time": "2023-01-24T08:03:03.271258",
     "exception": false,
     "start_time": "2023-01-24T08:03:01.755091",
     "status": "completed"
    },
    "tags": []
   },
   "outputs": [],
   "source": [
    "import seaborn as sns\n",
    "import matplotlib.pyplot as plt\n",
    "from sklearn.model_selection import train_test_split"
   ]
  },
  {
   "cell_type": "markdown",
   "id": "46378427",
   "metadata": {
    "papermill": {
     "duration": 0.014503,
     "end_time": "2023-01-24T08:03:03.301153",
     "exception": false,
     "start_time": "2023-01-24T08:03:03.286650",
     "status": "completed"
    },
    "tags": []
   },
   "source": [
    "# EDA Using Univariate Analysis"
   ]
  },
  {
   "cell_type": "code",
   "execution_count": 7,
   "id": "fa9127b9",
   "metadata": {
    "execution": {
     "iopub.execute_input": "2023-01-24T08:03:03.334199Z",
     "iopub.status.busy": "2023-01-24T08:03:03.333669Z",
     "iopub.status.idle": "2023-01-24T08:03:03.349711Z",
     "shell.execute_reply": "2023-01-24T08:03:03.348205Z"
    },
    "papermill": {
     "duration": 0.035542,
     "end_time": "2023-01-24T08:03:03.352343",
     "exception": false,
     "start_time": "2023-01-24T08:03:03.316801",
     "status": "completed"
    },
    "tags": []
   },
   "outputs": [
    {
     "data": {
      "text/plain": [
       "M    139\n",
       "F     76\n",
       "Name: Gender, dtype: int64"
      ]
     },
     "execution_count": 7,
     "metadata": {},
     "output_type": "execute_result"
    }
   ],
   "source": [
    "df['Gender'].value_counts()"
   ]
  },
  {
   "cell_type": "markdown",
   "id": "d8ee39db",
   "metadata": {
    "papermill": {
     "duration": 0.014438,
     "end_time": "2023-01-24T08:03:03.381785",
     "exception": false,
     "start_time": "2023-01-24T08:03:03.367347",
     "status": "completed"
    },
    "tags": []
   },
   "source": [
    "# Countplot"
   ]
  },
  {
   "cell_type": "code",
   "execution_count": 8,
   "id": "fbf66a8c",
   "metadata": {
    "execution": {
     "iopub.execute_input": "2023-01-24T08:03:03.414254Z",
     "iopub.status.busy": "2023-01-24T08:03:03.413505Z",
     "iopub.status.idle": "2023-01-24T08:03:03.641949Z",
     "shell.execute_reply": "2023-01-24T08:03:03.640629Z"
    },
    "papermill": {
     "duration": 0.248421,
     "end_time": "2023-01-24T08:03:03.645143",
     "exception": false,
     "start_time": "2023-01-24T08:03:03.396722",
     "status": "completed"
    },
    "tags": []
   },
   "outputs": [
    {
     "name": "stderr",
     "output_type": "stream",
     "text": [
      "/opt/conda/lib/python3.7/site-packages/seaborn/_decorators.py:43: FutureWarning: Pass the following variable as a keyword arg: x. From version 0.12, the only valid positional argument will be `data`, and passing other arguments without an explicit keyword will result in an error or misinterpretation.\n",
      "  FutureWarning\n"
     ]
    },
    {
     "data": {
      "text/plain": [
       "<AxesSubplot:xlabel='Gender', ylabel='count'>"
      ]
     },
     "execution_count": 8,
     "metadata": {},
     "output_type": "execute_result"
    },
    {
     "data": {
      "image/png": "[encoded data removed]",
      "text/plain": [
       "<Figure size 432x288 with 1 Axes>"
      ]
     },
     "metadata": {
      "needs_background": "light"
     },
     "output_type": "display_data"
    }
   ],
   "source": [
    "sns.countplot(df['Gender'])"
   ]
  },
  {
   "cell_type": "code",
   "execution_count": 9,
   "id": "529bf625",
   "metadata": {
    "execution": {
     "iopub.execute_input": "2023-01-24T08:03:03.677836Z",
     "iopub.status.busy": "2023-01-24T08:03:03.677390Z",
     "iopub.status.idle": "2023-01-24T08:03:03.687417Z",
     "shell.execute_reply": "2023-01-24T08:03:03.686148Z"
    },
    "papermill": {
     "duration": 0.029103,
     "end_time": "2023-01-24T08:03:03.689757",
     "exception": false,
     "start_time": "2023-01-24T08:03:03.660654",
     "status": "completed"
    },
    "tags": []
   },
   "outputs": [
    {
     "data": {
      "text/plain": [
       "Central    116\n",
       "Others      99\n",
       "Name: SSC Board, dtype: int64"
      ]
     },
     "execution_count": 9,
     "metadata": {},
     "output_type": "execute_result"
    }
   ],
   "source": [
    "df['SSC Board'].value_counts()"
   ]
  },
  {
   "cell_type": "markdown",
   "id": "5055cfe7",
   "metadata": {
    "papermill": {
     "duration": 0.014942,
     "end_time": "2023-01-24T08:03:03.720329",
     "exception": false,
     "start_time": "2023-01-24T08:03:03.705387",
     "status": "completed"
    },
    "tags": []
   },
   "source": [
    "# Histplot"
   ]
  },
  {
   "cell_type": "code",
   "execution_count": 10,
   "id": "b6141218",
   "metadata": {
    "execution": {
     "iopub.execute_input": "2023-01-24T08:03:03.753134Z",
     "iopub.status.busy": "2023-01-24T08:03:03.752664Z",
     "iopub.status.idle": "2023-01-24T08:03:03.950220Z",
     "shell.execute_reply": "2023-01-24T08:03:03.948174Z"
    },
    "papermill": {
     "duration": 0.217924,
     "end_time": "2023-01-24T08:03:03.953644",
     "exception": false,
     "start_time": "2023-01-24T08:03:03.735720",
     "status": "completed"
    },
    "tags": []
   },
   "outputs": [
    {
     "data": {
      "text/plain": [
       "<AxesSubplot:xlabel='SSC Board', ylabel='Count'>"
      ]
     },
     "execution_count": 10,
     "metadata": {},
     "output_type": "execute_result"
    },
    {
     "data": {
      "image/png": "[encoded data removed]",
      "text/plain": [
       "<Figure size 432x288 with 1 Axes>"
      ]
     },
     "metadata": {
      "needs_background": "light"
     },
     "output_type": "display_data"
    }
   ],
   "source": [
    "sns.histplot(df['SSC Board'])"
   ]
  },
  {
   "cell_type": "code",
   "execution_count": 11,
   "id": "34b06622",
   "metadata": {
    "execution": {
     "iopub.execute_input": "2023-01-24T08:03:03.988177Z",
     "iopub.status.busy": "2023-01-24T08:03:03.986900Z",
     "iopub.status.idle": "2023-01-24T08:03:03.995764Z",
     "shell.execute_reply": "2023-01-24T08:03:03.994858Z"
    },
    "papermill": {
     "duration": 0.028573,
     "end_time": "2023-01-24T08:03:03.998225",
     "exception": false,
     "start_time": "2023-01-24T08:03:03.969652",
     "status": "completed"
    },
    "tags": []
   },
   "outputs": [
    {
     "data": {
      "text/plain": [
       "Others     131\n",
       "Central     84\n",
       "Name: HSC Board, dtype: int64"
      ]
     },
     "execution_count": 11,
     "metadata": {},
     "output_type": "execute_result"
    }
   ],
   "source": [
    "df['HSC Board'].value_counts()"
   ]
  },
  {
   "cell_type": "markdown",
   "id": "8e6d09ee",
   "metadata": {
    "papermill": {
     "duration": 0.015742,
     "end_time": "2023-01-24T08:03:04.029983",
     "exception": false,
     "start_time": "2023-01-24T08:03:04.014241",
     "status": "completed"
    },
    "tags": []
   },
   "source": [
    "# Kde"
   ]
  },
  {
   "cell_type": "code",
   "execution_count": 12,
   "id": "206db7ef",
   "metadata": {
    "execution": {
     "iopub.execute_input": "2023-01-24T08:03:04.065563Z",
     "iopub.status.busy": "2023-01-24T08:03:04.064229Z",
     "iopub.status.idle": "2023-01-24T08:03:04.222791Z",
     "shell.execute_reply": "2023-01-24T08:03:04.221342Z"
    },
    "papermill": {
     "duration": 0.181497,
     "end_time": "2023-01-24T08:03:04.227341",
     "exception": false,
     "start_time": "2023-01-24T08:03:04.045844",
     "status": "completed"
    },
    "tags": []
   },
   "outputs": [
    {
     "data": {
      "text/plain": [
       "<AxesSubplot:xlabel='HSC Board', ylabel='Count'>"
      ]
     },
     "execution_count": 12,
     "metadata": {},
     "output_type": "execute_result"
    },
    {
     "data": {
      "image/png": "[encoded data removed]",
      "text/plain": [
       "<Figure size 432x288 with 1 Axes>"
      ]
     },
     "metadata": {
      "needs_background": "light"
     },
     "output_type": "display_data"
    }
   ],
   "source": [
    "sns.histplot(data=df['HSC Board'],kde=True)"
   ]
  },
  {
   "cell_type": "code",
   "execution_count": 13,
   "id": "ece7506a",
   "metadata": {
    "execution": {
     "iopub.execute_input": "2023-01-24T08:03:04.272099Z",
     "iopub.status.busy": "2023-01-24T08:03:04.270727Z",
     "iopub.status.idle": "2023-01-24T08:03:04.280879Z",
     "shell.execute_reply": "2023-01-24T08:03:04.279532Z"
    },
    "papermill": {
     "duration": 0.0304,
     "end_time": "2023-01-24T08:03:04.283500",
     "exception": false,
     "start_time": "2023-01-24T08:03:04.253100",
     "status": "completed"
    },
    "tags": []
   },
   "outputs": [
    {
     "data": {
      "text/plain": [
       "Commerce    113\n",
       "Science      91\n",
       "Arts         11\n",
       "Name: 12th Stream, dtype: int64"
      ]
     },
     "execution_count": 13,
     "metadata": {},
     "output_type": "execute_result"
    }
   ],
   "source": [
    "df['12th Stream'].value_counts()"
   ]
  },
  {
   "cell_type": "code",
   "execution_count": 14,
   "id": "5d8af239",
   "metadata": {
    "execution": {
     "iopub.execute_input": "2023-01-24T08:03:04.320268Z",
     "iopub.status.busy": "2023-01-24T08:03:04.319378Z",
     "iopub.status.idle": "2023-01-24T08:03:04.501682Z",
     "shell.execute_reply": "2023-01-24T08:03:04.500426Z"
    },
    "papermill": {
     "duration": 0.204126,
     "end_time": "2023-01-24T08:03:04.504701",
     "exception": false,
     "start_time": "2023-01-24T08:03:04.300575",
     "status": "completed"
    },
    "tags": []
   },
   "outputs": [
    {
     "name": "stderr",
     "output_type": "stream",
     "text": [
      "/opt/conda/lib/python3.7/site-packages/seaborn/_decorators.py:43: FutureWarning: Pass the following variable as a keyword arg: x. From version 0.12, the only valid positional argument will be `data`, and passing other arguments without an explicit keyword will result in an error or misinterpretation.\n",
      "  FutureWarning\n"
     ]
    },
    {
     "data": {
      "text/plain": [
       "<AxesSubplot:xlabel='12th Stream', ylabel='count'>"
      ]
     },
     "execution_count": 14,
     "metadata": {},
     "output_type": "execute_result"
    },
    {
     "data": {
      "image/png": "[encoded data removed]",
      "text/plain": [
       "<Figure size 432x288 with 1 Axes>"
      ]
     },
     "metadata": {
      "needs_background": "light"
     },
     "output_type": "display_data"
    }
   ],
   "source": [
    "sns.countplot(df['12th Stream'])"
   ]
  },
  {
   "cell_type": "code",
   "execution_count": 15,
   "id": "d968bfda",
   "metadata": {
    "execution": {
     "iopub.execute_input": "2023-01-24T08:03:04.543047Z",
     "iopub.status.busy": "2023-01-24T08:03:04.542056Z",
     "iopub.status.idle": "2023-01-24T08:03:04.551365Z",
     "shell.execute_reply": "2023-01-24T08:03:04.550309Z"
    },
    "papermill": {
     "duration": 0.032244,
     "end_time": "2023-01-24T08:03:04.554028",
     "exception": false,
     "start_time": "2023-01-24T08:03:04.521784",
     "status": "completed"
    },
    "tags": []
   },
   "outputs": [
    {
     "data": {
      "text/plain": [
       "Comm&Mgmt    145\n",
       "Sci&Tech      59\n",
       "Others        11\n",
       "Name: Degree stream, dtype: int64"
      ]
     },
     "execution_count": 15,
     "metadata": {},
     "output_type": "execute_result"
    }
   ],
   "source": [
    "df['Degree stream'].value_counts()"
   ]
  },
  {
   "cell_type": "markdown",
   "id": "00934730",
   "metadata": {
    "papermill": {
     "duration": 0.017985,
     "end_time": "2023-01-24T08:03:04.591413",
     "exception": false,
     "start_time": "2023-01-24T08:03:04.573428",
     "status": "completed"
    },
    "tags": []
   },
   "source": [
    "# Piechart"
   ]
  },
  {
   "cell_type": "code",
   "execution_count": 16,
   "id": "13935d22",
   "metadata": {
    "execution": {
     "iopub.execute_input": "2023-01-24T08:03:04.628585Z",
     "iopub.status.busy": "2023-01-24T08:03:04.628096Z",
     "iopub.status.idle": "2023-01-24T08:03:04.749302Z",
     "shell.execute_reply": "2023-01-24T08:03:04.747814Z"
    },
    "papermill": {
     "duration": 0.145941,
     "end_time": "2023-01-24T08:03:04.754240",
     "exception": false,
     "start_time": "2023-01-24T08:03:04.608299",
     "status": "completed"
    },
    "tags": []
   },
   "outputs": [
    {
     "data": {
      "image/png": "[encoded data removed]",
      "text/plain": [
       "<Figure size 432x288 with 1 Axes>"
      ]
     },
     "metadata": {},
     "output_type": "display_data"
    }
   ],
   "source": [
    "plt.pie(df['Degree stream'].value_counts(),labels=df['Degree stream'].value_counts().index,autopct=\"%.0f%%\")\n",
    "plt.show()"
   ]
  },
  {
   "cell_type": "code",
   "execution_count": 17,
   "id": "29d7dbe7",
   "metadata": {
    "execution": {
     "iopub.execute_input": "2023-01-24T08:03:04.836179Z",
     "iopub.status.busy": "2023-01-24T08:03:04.835696Z",
     "iopub.status.idle": "2023-01-24T08:03:04.844590Z",
     "shell.execute_reply": "2023-01-24T08:03:04.843684Z"
    },
    "papermill": {
     "duration": 0.048256,
     "end_time": "2023-01-24T08:03:04.846618",
     "exception": false,
     "start_time": "2023-01-24T08:03:04.798362",
     "status": "completed"
    },
    "tags": []
   },
   "outputs": [
    {
     "data": {
      "text/plain": [
       "Mkt&Fin    120\n",
       "Mkt&HR      95\n",
       "Name: specialisation, dtype: int64"
      ]
     },
     "execution_count": 17,
     "metadata": {},
     "output_type": "execute_result"
    }
   ],
   "source": [
    "df['specialisation'].value_counts()"
   ]
  },
  {
   "cell_type": "code",
   "execution_count": 18,
   "id": "e0c35c12",
   "metadata": {
    "execution": {
     "iopub.execute_input": "2023-01-24T08:03:04.884581Z",
     "iopub.status.busy": "2023-01-24T08:03:04.884073Z",
     "iopub.status.idle": "2023-01-24T08:03:05.068491Z",
     "shell.execute_reply": "2023-01-24T08:03:05.067079Z"
    },
    "papermill": {
     "duration": 0.206912,
     "end_time": "2023-01-24T08:03:05.071402",
     "exception": false,
     "start_time": "2023-01-24T08:03:04.864490",
     "status": "completed"
    },
    "tags": []
   },
   "outputs": [
    {
     "name": "stderr",
     "output_type": "stream",
     "text": [
      "/opt/conda/lib/python3.7/site-packages/seaborn/_decorators.py:43: FutureWarning: Pass the following variable as a keyword arg: x. From version 0.12, the only valid positional argument will be `data`, and passing other arguments without an explicit keyword will result in an error or misinterpretation.\n",
      "  FutureWarning\n"
     ]
    },
    {
     "data": {
      "text/plain": [
       "<AxesSubplot:xlabel='specialisation', ylabel='count'>"
      ]
     },
     "execution_count": 18,
     "metadata": {},
     "output_type": "execute_result"
    },
    {
     "data": {
      "image/png": "[encoded data removed]",
      "text/plain": [
       "<Figure size 432x288 with 1 Axes>"
      ]
     },
     "metadata": {
      "needs_background": "light"
     },
     "output_type": "display_data"
    }
   ],
   "source": [
    "sns.countplot(df['specialisation'],color='skyblue')"
   ]
  },
  {
   "cell_type": "markdown",
   "id": "59969af3",
   "metadata": {
    "papermill": {
     "duration": 0.017094,
     "end_time": "2023-01-24T08:03:05.106479",
     "exception": false,
     "start_time": "2023-01-24T08:03:05.089385",
     "status": "completed"
    },
    "tags": []
   },
   "source": [
    "# EDA Using Bivariate & Multivariate Analysis"
   ]
  },
  {
   "cell_type": "markdown",
   "id": "f3e8658b",
   "metadata": {
    "papermill": {
     "duration": 0.017391,
     "end_time": "2023-01-24T08:03:05.141784",
     "exception": false,
     "start_time": "2023-01-24T08:03:05.124393",
     "status": "completed"
    },
    "tags": []
   },
   "source": [
    "# Scatterplot"
   ]
  },
  {
   "cell_type": "code",
   "execution_count": 19,
   "id": "0ca1ec7c",
   "metadata": {
    "execution": {
     "iopub.execute_input": "2023-01-24T08:03:05.180511Z",
     "iopub.status.busy": "2023-01-24T08:03:05.180040Z",
     "iopub.status.idle": "2023-01-24T08:03:05.548330Z",
     "shell.execute_reply": "2023-01-24T08:03:05.547032Z"
    },
    "papermill": {
     "duration": 0.391908,
     "end_time": "2023-01-24T08:03:05.551777",
     "exception": false,
     "start_time": "2023-01-24T08:03:05.159869",
     "status": "completed"
    },
    "tags": []
   },
   "outputs": [
    {
     "name": "stderr",
     "output_type": "stream",
     "text": [
      "/opt/conda/lib/python3.7/site-packages/seaborn/_decorators.py:43: FutureWarning: Pass the following variables as keyword args: x, y. From version 0.12, the only valid positional argument will be `data`, and passing other arguments without an explicit keyword will result in an error or misinterpretation.\n",
      "  FutureWarning\n"
     ]
    },
    {
     "data": {
      "text/plain": [
       "<AxesSubplot:xlabel='Degree %', ylabel='Mba %'>"
      ]
     },
     "execution_count": 19,
     "metadata": {},
     "output_type": "execute_result"
    },
    {
     "data": {
      "image/png": "[encoded data removed]",
      "text/plain": [
       "<Figure size 432x288 with 1 Axes>"
      ]
     },
     "metadata": {
      "needs_background": "light"
     },
     "output_type": "display_data"
    }
   ],
   "source": [
    "sns.scatterplot(df['Degree %'],df['Mba %'],hue=df['Gender'],style=df['Work exp'],size=df['status'],palette=\"deep\",sizes=(20,80),legend=\"full\")"
   ]
  },
  {
   "cell_type": "markdown",
   "id": "0cea1a2c",
   "metadata": {
    "papermill": {
     "duration": 0.018913,
     "end_time": "2023-01-24T08:03:05.589563",
     "exception": false,
     "start_time": "2023-01-24T08:03:05.570650",
     "status": "completed"
    },
    "tags": []
   },
   "source": [
    "# Pairplot"
   ]
  },
  {
   "cell_type": "code",
   "execution_count": 20,
   "id": "0163bc64",
   "metadata": {
    "execution": {
     "iopub.execute_input": "2023-01-24T08:03:05.629123Z",
     "iopub.status.busy": "2023-01-24T08:03:05.628092Z",
     "iopub.status.idle": "2023-01-24T08:03:09.774052Z",
     "shell.execute_reply": "2023-01-24T08:03:09.772454Z"
    },
    "papermill": {
     "duration": 4.170803,
     "end_time": "2023-01-24T08:03:09.778810",
     "exception": false,
     "start_time": "2023-01-24T08:03:05.608007",
     "status": "completed"
    },
    "tags": []
   },
   "outputs": [
    {
     "data": {
      "text/plain": [
       "<seaborn.axisgrid.PairGrid at 0x7f1f00c26d10>"
      ]
     },
     "execution_count": 20,
     "metadata": {},
     "output_type": "execute_result"
    },
    {
     "data": {
      "image/png": "[encoded data removed]",
      "text/plain": [
       "<Figure size 764.875x720 with 20 Axes>"
      ]
     },
     "metadata": {
      "needs_background": "light"
     },
     "output_type": "display_data"
    }
   ],
   "source": [
    "sns.pairplot(df,hue='Gender',corner=False)"
   ]
  },
  {
   "cell_type": "markdown",
   "id": "327cae4a",
   "metadata": {
    "papermill": {
     "duration": 0.022751,
     "end_time": "2023-01-24T08:03:09.824458",
     "exception": false,
     "start_time": "2023-01-24T08:03:09.801707",
     "status": "completed"
    },
    "tags": []
   },
   "source": [
    "# Heatmap"
   ]
  },
  {
   "cell_type": "code",
   "execution_count": 21,
   "id": "a8241541",
   "metadata": {
    "execution": {
     "iopub.execute_input": "2023-01-24T08:03:09.872822Z",
     "iopub.status.busy": "2023-01-24T08:03:09.872082Z",
     "iopub.status.idle": "2023-01-24T08:03:10.118408Z",
     "shell.execute_reply": "2023-01-24T08:03:10.117161Z"
    },
    "papermill": {
     "duration": 0.274257,
     "end_time": "2023-01-24T08:03:10.121560",
     "exception": false,
     "start_time": "2023-01-24T08:03:09.847303",
     "status": "completed"
    },
    "tags": []
   },
   "outputs": [
    {
     "data": {
      "text/plain": [
       "<AxesSubplot:xlabel='status', ylabel='Work exp'>"
      ]
     },
     "execution_count": 21,
     "metadata": {},
     "output_type": "execute_result"
    },
    {
     "data": {
      "image/png": "[encoded data removed]",
      "text/plain": [
       "<Figure size 432x288 with 2 Axes>"
      ]
     },
     "metadata": {
      "needs_background": "light"
     },
     "output_type": "display_data"
    }
   ],
   "source": [
    "sns.heatmap(pd.crosstab(df['Work exp'],df['status']),annot=True)"
   ]
  },
  {
   "cell_type": "markdown",
   "id": "85f0b422",
   "metadata": {
    "papermill": {
     "duration": 0.022632,
     "end_time": "2023-01-24T08:03:10.167237",
     "exception": false,
     "start_time": "2023-01-24T08:03:10.144605",
     "status": "completed"
    },
    "tags": []
   },
   "source": [
    "# Clustermap"
   ]
  },
  {
   "cell_type": "code",
   "execution_count": 22,
   "id": "5caef998",
   "metadata": {
    "execution": {
     "iopub.execute_input": "2023-01-24T08:03:10.218085Z",
     "iopub.status.busy": "2023-01-24T08:03:10.216532Z",
     "iopub.status.idle": "2023-01-24T08:03:10.716603Z",
     "shell.execute_reply": "2023-01-24T08:03:10.715664Z"
    },
    "papermill": {
     "duration": 0.528746,
     "end_time": "2023-01-24T08:03:10.719101",
     "exception": false,
     "start_time": "2023-01-24T08:03:10.190355",
     "status": "completed"
    },
    "tags": []
   },
   "outputs": [
    {
     "data": {
      "text/plain": [
       "<seaborn.matrix.ClusterGrid at 0x7f1f00284810>"
      ]
     },
     "execution_count": 22,
     "metadata": {},
     "output_type": "execute_result"
    },
    {
     "data": {
      "image/png": "[encoded data removed]",
      "text/plain": [
       "<Figure size 720x720 with 4 Axes>"
      ]
     },
     "metadata": {
      "needs_background": "light"
     },
     "output_type": "display_data"
    }
   ],
   "source": [
    "sns.clustermap(pd.crosstab(df['Degree stream'],df['status']),cmap=\"mako\")"
   ]
  },
  {
   "cell_type": "markdown",
   "id": "55d20ab8",
   "metadata": {
    "papermill": {
     "duration": 0.023812,
     "end_time": "2023-01-24T08:03:10.766337",
     "exception": false,
     "start_time": "2023-01-24T08:03:10.742525",
     "status": "completed"
    },
    "tags": []
   },
   "source": [
    "# Distplot"
   ]
  },
  {
   "cell_type": "code",
   "execution_count": 23,
   "id": "1c7d94c9",
   "metadata": {
    "execution": {
     "iopub.execute_input": "2023-01-24T08:03:10.815137Z",
     "iopub.status.busy": "2023-01-24T08:03:10.814284Z",
     "iopub.status.idle": "2023-01-24T08:03:11.091130Z",
     "shell.execute_reply": "2023-01-24T08:03:11.088997Z"
    },
    "papermill": {
     "duration": 0.304519,
     "end_time": "2023-01-24T08:03:11.093969",
     "exception": false,
     "start_time": "2023-01-24T08:03:10.789450",
     "status": "completed"
    },
    "tags": []
   },
   "outputs": [
    {
     "name": "stderr",
     "output_type": "stream",
     "text": [
      "/opt/conda/lib/python3.7/site-packages/seaborn/distributions.py:2619: FutureWarning: `distplot` is a deprecated function and will be removed in a future version. Please adapt your code to use either `displot` (a figure-level function with similar flexibility) or `histplot` (an axes-level function for histograms).\n",
      "  warnings.warn(msg, FutureWarning)\n"
     ]
    },
    {
     "data": {
      "text/plain": [
       "<AxesSubplot:xlabel='12th %', ylabel='Density'>"
      ]
     },
     "execution_count": 23,
     "metadata": {},
     "output_type": "execute_result"
    },
    {
     "data": {
      "image/png": "[encoded data removed]",
      "text/plain": [
       "<Figure size 432x288 with 1 Axes>"
      ]
     },
     "metadata": {
      "needs_background": "light"
     },
     "output_type": "display_data"
    }
   ],
   "source": [
    "sns.distplot(df[df['status']==\"Placed\"]['12th %'])"
   ]
  },
  {
   "cell_type": "markdown",
   "id": "f8038586",
   "metadata": {
    "papermill": {
     "duration": 0.023809,
     "end_time": "2023-01-24T08:03:11.145734",
     "exception": false,
     "start_time": "2023-01-24T08:03:11.121925",
     "status": "completed"
    },
    "tags": []
   },
   "source": [
    "# Barplot"
   ]
  },
  {
   "cell_type": "code",
   "execution_count": 24,
   "id": "a8f6a491",
   "metadata": {
    "execution": {
     "iopub.execute_input": "2023-01-24T08:03:11.196603Z",
     "iopub.status.busy": "2023-01-24T08:03:11.195909Z",
     "iopub.status.idle": "2023-01-24T08:03:11.513303Z",
     "shell.execute_reply": "2023-01-24T08:03:11.511904Z"
    },
    "papermill": {
     "duration": 0.346688,
     "end_time": "2023-01-24T08:03:11.516853",
     "exception": false,
     "start_time": "2023-01-24T08:03:11.170165",
     "status": "completed"
    },
    "tags": []
   },
   "outputs": [
    {
     "name": "stderr",
     "output_type": "stream",
     "text": [
      "/opt/conda/lib/python3.7/site-packages/seaborn/_decorators.py:43: FutureWarning: Pass the following variables as keyword args: x, y. From version 0.12, the only valid positional argument will be `data`, and passing other arguments without an explicit keyword will result in an error or misinterpretation.\n",
      "  FutureWarning\n"
     ]
    },
    {
     "data": {
      "text/plain": [
       "<AxesSubplot:xlabel='status', ylabel='Mba %'>"
      ]
     },
     "execution_count": 24,
     "metadata": {},
     "output_type": "execute_result"
    },
    {
     "data": {
      "image/png": "[encoded data removed]",
      "text/plain": [
       "<Figure size 432x288 with 1 Axes>"
      ]
     },
     "metadata": {
      "needs_background": "light"
     },
     "output_type": "display_data"
    }
   ],
   "source": [
    "sns.barplot(df['status'],df['Mba %'],hue=df['Gender'])"
   ]
  },
  {
   "cell_type": "code",
   "execution_count": 25,
   "id": "2502ac2c",
   "metadata": {
    "execution": {
     "iopub.execute_input": "2023-01-24T08:03:11.570263Z",
     "iopub.status.busy": "2023-01-24T08:03:11.568940Z",
     "iopub.status.idle": "2023-01-24T08:03:11.963371Z",
     "shell.execute_reply": "2023-01-24T08:03:11.961998Z"
    },
    "papermill": {
     "duration": 0.423986,
     "end_time": "2023-01-24T08:03:11.966078",
     "exception": false,
     "start_time": "2023-01-24T08:03:11.542092",
     "status": "completed"
    },
    "tags": []
   },
   "outputs": [
    {
     "name": "stderr",
     "output_type": "stream",
     "text": [
      "/opt/conda/lib/python3.7/site-packages/seaborn/_decorators.py:43: FutureWarning: Pass the following variables as keyword args: x, y. From version 0.12, the only valid positional argument will be `data`, and passing other arguments without an explicit keyword will result in an error or misinterpretation.\n",
      "  FutureWarning\n"
     ]
    },
    {
     "data": {
      "text/plain": [
       "<AxesSubplot:xlabel='Degree stream', ylabel='Degree %'>"
      ]
     },
     "execution_count": 25,
     "metadata": {},
     "output_type": "execute_result"
    },
    {
     "data": {
      "image/png": "[encoded data removed]",
      "text/plain": [
       "<Figure size 432x288 with 1 Axes>"
      ]
     },
     "metadata": {
      "needs_background": "light"
     },
     "output_type": "display_data"
    }
   ],
   "source": [
    "sns.barplot(df['Degree stream'],df['Degree %'],hue=df['Gender'])"
   ]
  },
  {
   "cell_type": "markdown",
   "id": "c1218a71",
   "metadata": {
    "papermill": {
     "duration": 0.024924,
     "end_time": "2023-01-24T08:03:12.016141",
     "exception": false,
     "start_time": "2023-01-24T08:03:11.991217",
     "status": "completed"
    },
    "tags": []
   },
   "source": [
    "# Boxplot"
   ]
  },
  {
   "cell_type": "code",
   "execution_count": 26,
   "id": "5455551a",
   "metadata": {
    "execution": {
     "iopub.execute_input": "2023-01-24T08:03:12.069746Z",
     "iopub.status.busy": "2023-01-24T08:03:12.069273Z",
     "iopub.status.idle": "2023-01-24T08:03:12.283011Z",
     "shell.execute_reply": "2023-01-24T08:03:12.281835Z"
    },
    "papermill": {
     "duration": 0.243449,
     "end_time": "2023-01-24T08:03:12.285835",
     "exception": false,
     "start_time": "2023-01-24T08:03:12.042386",
     "status": "completed"
    },
    "tags": []
   },
   "outputs": [
    {
     "name": "stderr",
     "output_type": "stream",
     "text": [
      "/opt/conda/lib/python3.7/site-packages/seaborn/_decorators.py:43: FutureWarning: Pass the following variables as keyword args: x, y. From version 0.12, the only valid positional argument will be `data`, and passing other arguments without an explicit keyword will result in an error or misinterpretation.\n",
      "  FutureWarning\n"
     ]
    },
    {
     "data": {
      "text/plain": [
       "<AxesSubplot:xlabel='Degree stream', ylabel='Degree %'>"
      ]
     },
     "execution_count": 26,
     "metadata": {},
     "output_type": "execute_result"
    },
    {
     "data": {
      "image/png": "[encoded data removed]",
      "text/plain": [
       "<Figure size 432x288 with 1 Axes>"
      ]
     },
     "metadata": {
      "needs_background": "light"
     },
     "output_type": "display_data"
    }
   ],
   "source": [
    "sns.boxplot(df['Degree stream'],df['Degree %'])"
   ]
  },
  {
   "cell_type": "code",
   "execution_count": 27,
   "id": "0fbc128c",
   "metadata": {
    "execution": {
     "iopub.execute_input": "2023-01-24T08:03:12.339165Z",
     "iopub.status.busy": "2023-01-24T08:03:12.338491Z",
     "iopub.status.idle": "2023-01-24T08:03:12.534263Z",
     "shell.execute_reply": "2023-01-24T08:03:12.532856Z"
    },
    "papermill": {
     "duration": 0.226177,
     "end_time": "2023-01-24T08:03:12.537624",
     "exception": false,
     "start_time": "2023-01-24T08:03:12.311447",
     "status": "completed"
    },
    "tags": []
   },
   "outputs": [
    {
     "name": "stderr",
     "output_type": "stream",
     "text": [
      "/opt/conda/lib/python3.7/site-packages/seaborn/_decorators.py:43: FutureWarning: Pass the following variables as keyword args: x, y. From version 0.12, the only valid positional argument will be `data`, and passing other arguments without an explicit keyword will result in an error or misinterpretation.\n",
      "  FutureWarning\n"
     ]
    },
    {
     "data": {
      "text/plain": [
       "<AxesSubplot:xlabel='status', ylabel='Mba %'>"
      ]
     },
     "execution_count": 27,
     "metadata": {},
     "output_type": "execute_result"
    },
    {
     "data": {
      "image/png": "[encoded data removed]",
      "text/plain": [
       "<Figure size 432x288 with 1 Axes>"
      ]
     },
     "metadata": {
      "needs_background": "light"
     },
     "output_type": "display_data"
    }
   ],
   "source": [
    "sns.boxplot(df['status'],df['Mba %'],color='yellow')"
   ]
  },
  {
   "cell_type": "code",
   "execution_count": 28,
   "id": "f9a7bbf5",
   "metadata": {
    "execution": {
     "iopub.execute_input": "2023-01-24T08:03:12.591929Z",
     "iopub.status.busy": "2023-01-24T08:03:12.591212Z",
     "iopub.status.idle": "2023-01-24T08:03:12.604586Z",
     "shell.execute_reply": "2023-01-24T08:03:12.603381Z"
    },
    "papermill": {
     "duration": 0.043206,
     "end_time": "2023-01-24T08:03:12.607356",
     "exception": false,
     "start_time": "2023-01-24T08:03:12.564150",
     "status": "completed"
    },
    "tags": []
   },
   "outputs": [
    {
     "data": {
      "text/html": [
       "<div>\n",
       "<style scoped>\n",
       "    .dataframe tbody tr th:only-of-type {\n",
       "        vertical-align: middle;\n",
       "    }\n",
       "\n",
       "    .dataframe tbody tr th {\n",
       "        vertical-align: top;\n",
       "    }\n",
       "\n",
       "    .dataframe thead th {\n",
       "        text-align: right;\n",
       "    }\n",
       "</style>\n",
       "<table border=\"1\" class=\"dataframe\">\n",
       "  <thead>\n",
       "    <tr style=\"text-align: right;\">\n",
       "      <th></th>\n",
       "      <th>10th %</th>\n",
       "      <th>12th %</th>\n",
       "      <th>Degree %</th>\n",
       "      <th>Mba %</th>\n",
       "    </tr>\n",
       "  </thead>\n",
       "  <tbody>\n",
       "    <tr>\n",
       "      <th>10th %</th>\n",
       "      <td>1.000000</td>\n",
       "      <td>0.511472</td>\n",
       "      <td>0.538404</td>\n",
       "      <td>0.388478</td>\n",
       "    </tr>\n",
       "    <tr>\n",
       "      <th>12th %</th>\n",
       "      <td>0.511472</td>\n",
       "      <td>1.000000</td>\n",
       "      <td>0.434206</td>\n",
       "      <td>0.354823</td>\n",
       "    </tr>\n",
       "    <tr>\n",
       "      <th>Degree %</th>\n",
       "      <td>0.538404</td>\n",
       "      <td>0.434206</td>\n",
       "      <td>1.000000</td>\n",
       "      <td>0.402364</td>\n",
       "    </tr>\n",
       "    <tr>\n",
       "      <th>Mba %</th>\n",
       "      <td>0.388478</td>\n",
       "      <td>0.354823</td>\n",
       "      <td>0.402364</td>\n",
       "      <td>1.000000</td>\n",
       "    </tr>\n",
       "  </tbody>\n",
       "</table>\n",
       "</div>"
      ],
      "text/plain": [
       "            10th %    12th %  Degree %     Mba %\n",
       "10th %    1.000000  0.511472  0.538404  0.388478\n",
       "12th %    0.511472  1.000000  0.434206  0.354823\n",
       "Degree %  0.538404  0.434206  1.000000  0.402364\n",
       "Mba %     0.388478  0.354823  0.402364  1.000000"
      ]
     },
     "execution_count": 28,
     "metadata": {},
     "output_type": "execute_result"
    }
   ],
   "source": [
    "df.corr()"
   ]
  },
  {
   "cell_type": "markdown",
   "id": "ff832eba",
   "metadata": {
    "papermill": {
     "duration": 0.026149,
     "end_time": "2023-01-24T08:03:12.661272",
     "exception": false,
     "start_time": "2023-01-24T08:03:12.635123",
     "status": "completed"
    },
    "tags": []
   },
   "source": [
    "# Heapmap of corr"
   ]
  },
  {
   "cell_type": "code",
   "execution_count": 29,
   "id": "3fdfccc3",
   "metadata": {
    "execution": {
     "iopub.execute_input": "2023-01-24T08:03:12.715495Z",
     "iopub.status.busy": "2023-01-24T08:03:12.714789Z",
     "iopub.status.idle": "2023-01-24T08:03:13.006796Z",
     "shell.execute_reply": "2023-01-24T08:03:13.005710Z"
    },
    "papermill": {
     "duration": 0.322601,
     "end_time": "2023-01-24T08:03:13.009933",
     "exception": false,
     "start_time": "2023-01-24T08:03:12.687332",
     "status": "completed"
    },
    "tags": []
   },
   "outputs": [
    {
     "data": {
      "text/plain": [
       "<AxesSubplot:>"
      ]
     },
     "execution_count": 29,
     "metadata": {},
     "output_type": "execute_result"
    },
    {
     "data": {
      "image/png": "[encoded data removed]",
      "text/plain": [
       "<Figure size 432x288 with 2 Axes>"
      ]
     },
     "metadata": {
      "needs_background": "light"
     },
     "output_type": "display_data"
    }
   ],
   "source": [
    "sns.heatmap(df.corr(),annot=True,cmap=\"mako\")"
   ]
  },
  {
   "cell_type": "markdown",
   "id": "6383d622",
   "metadata": {
    "papermill": {
     "duration": 0.027177,
     "end_time": "2023-01-24T08:03:13.063842",
     "exception": false,
     "start_time": "2023-01-24T08:03:13.036665",
     "status": "completed"
    },
    "tags": []
   },
   "source": [
    "# Clustermap of corr"
   ]
  },
  {
   "cell_type": "code",
   "execution_count": 30,
   "id": "fc3bad59",
   "metadata": {
    "execution": {
     "iopub.execute_input": "2023-01-24T08:03:13.119590Z",
     "iopub.status.busy": "2023-01-24T08:03:13.119133Z",
     "iopub.status.idle": "2023-01-24T08:03:13.649301Z",
     "shell.execute_reply": "2023-01-24T08:03:13.648199Z"
    },
    "papermill": {
     "duration": 0.561967,
     "end_time": "2023-01-24T08:03:13.652160",
     "exception": false,
     "start_time": "2023-01-24T08:03:13.090193",
     "status": "completed"
    },
    "tags": []
   },
   "outputs": [
    {
     "data": {
      "text/plain": [
       "<seaborn.matrix.ClusterGrid at 0x7f1efe480290>"
      ]
     },
     "execution_count": 30,
     "metadata": {},
     "output_type": "execute_result"
    },
    {
     "data": {
      "image/png": "[encoded data removed]",
      "text/plain": [
       "<Figure size 720x720 with 4 Axes>"
      ]
     },
     "metadata": {
      "needs_background": "light"
     },
     "output_type": "display_data"
    }
   ],
   "source": [
    "sns.clustermap(df.corr(),annot=True)"
   ]
  },
  {
   "cell_type": "markdown",
   "id": "b9790ba6",
   "metadata": {
    "papermill": {
     "duration": 0.026183,
     "end_time": "2023-01-24T08:03:13.706147",
     "exception": false,
     "start_time": "2023-01-24T08:03:13.679964",
     "status": "completed"
    },
    "tags": []
   },
   "source": [
    "# Simplify the Data"
   ]
  },
  {
   "cell_type": "code",
   "execution_count": 31,
   "id": "c9299ff9",
   "metadata": {
    "execution": {
     "iopub.execute_input": "2023-01-24T08:03:13.762430Z",
     "iopub.status.busy": "2023-01-24T08:03:13.761910Z",
     "iopub.status.idle": "2023-01-24T08:03:13.853273Z",
     "shell.execute_reply": "2023-01-24T08:03:13.852076Z"
    },
    "papermill": {
     "duration": 0.123658,
     "end_time": "2023-01-24T08:03:13.856839",
     "exception": false,
     "start_time": "2023-01-24T08:03:13.733181",
     "status": "completed"
    },
    "tags": []
   },
   "outputs": [
    {
     "name": "stderr",
     "output_type": "stream",
     "text": [
      "/opt/conda/lib/python3.7/site-packages/ipykernel_launcher.py:3: SettingWithCopyWarning: \n",
      "A value is trying to be set on a copy of a slice from a DataFrame\n",
      "\n",
      "See the caveats in the documentation: https://pandas.pydata.org/pandas-docs/stable/user_guide/indexing.html#returning-a-view-versus-a-copy\n",
      "  This is separate from the ipykernel package so we can avoid doing imports until\n",
      "/opt/conda/lib/python3.7/site-packages/ipykernel_launcher.py:5: SettingWithCopyWarning: \n",
      "A value is trying to be set on a copy of a slice from a DataFrame\n",
      "\n",
      "See the caveats in the documentation: https://pandas.pydata.org/pandas-docs/stable/user_guide/indexing.html#returning-a-view-versus-a-copy\n",
      "  \"\"\"\n"
     ]
    }
   ],
   "source": [
    "for i in range(0,215):\n",
    "    if df['Gender'][i]=='M':\n",
    "        df['Gender'][i]=1\n",
    "    else:\n",
    "        df['Gender'][i]=0\n",
    "    "
   ]
  },
  {
   "cell_type": "code",
   "execution_count": 32,
   "id": "dfb6bddb",
   "metadata": {
    "execution": {
     "iopub.execute_input": "2023-01-24T08:03:13.914183Z",
     "iopub.status.busy": "2023-01-24T08:03:13.913687Z",
     "iopub.status.idle": "2023-01-24T08:03:14.008385Z",
     "shell.execute_reply": "2023-01-24T08:03:14.006373Z"
    },
    "papermill": {
     "duration": 0.128335,
     "end_time": "2023-01-24T08:03:14.012882",
     "exception": false,
     "start_time": "2023-01-24T08:03:13.884547",
     "status": "completed"
    },
    "tags": []
   },
   "outputs": [
    {
     "name": "stderr",
     "output_type": "stream",
     "text": [
      "/opt/conda/lib/python3.7/site-packages/ipykernel_launcher.py:5: SettingWithCopyWarning: \n",
      "A value is trying to be set on a copy of a slice from a DataFrame\n",
      "\n",
      "See the caveats in the documentation: https://pandas.pydata.org/pandas-docs/stable/user_guide/indexing.html#returning-a-view-versus-a-copy\n",
      "  \"\"\"\n",
      "/opt/conda/lib/python3.7/site-packages/ipykernel_launcher.py:3: SettingWithCopyWarning: \n",
      "A value is trying to be set on a copy of a slice from a DataFrame\n",
      "\n",
      "See the caveats in the documentation: https://pandas.pydata.org/pandas-docs/stable/user_guide/indexing.html#returning-a-view-versus-a-copy\n",
      "  This is separate from the ipykernel package so we can avoid doing imports until\n"
     ]
    }
   ],
   "source": [
    "for i in range(0,215):\n",
    "    if df['SSC Board'][i]=='Central':\n",
    "        df['SSC Board'][i]=1\n",
    "    else:\n",
    "        df['SSC Board'][i]=0"
   ]
  },
  {
   "cell_type": "code",
   "execution_count": 33,
   "id": "d0d03192",
   "metadata": {
    "execution": {
     "iopub.execute_input": "2023-01-24T08:03:14.080422Z",
     "iopub.status.busy": "2023-01-24T08:03:14.079920Z",
     "iopub.status.idle": "2023-01-24T08:03:14.178913Z",
     "shell.execute_reply": "2023-01-24T08:03:14.177324Z"
    },
    "papermill": {
     "duration": 0.136906,
     "end_time": "2023-01-24T08:03:14.181734",
     "exception": false,
     "start_time": "2023-01-24T08:03:14.044828",
     "status": "completed"
    },
    "tags": []
   },
   "outputs": [
    {
     "name": "stderr",
     "output_type": "stream",
     "text": [
      "/opt/conda/lib/python3.7/site-packages/ipykernel_launcher.py:5: SettingWithCopyWarning: \n",
      "A value is trying to be set on a copy of a slice from a DataFrame\n",
      "\n",
      "See the caveats in the documentation: https://pandas.pydata.org/pandas-docs/stable/user_guide/indexing.html#returning-a-view-versus-a-copy\n",
      "  \"\"\"\n",
      "/opt/conda/lib/python3.7/site-packages/ipykernel_launcher.py:3: SettingWithCopyWarning: \n",
      "A value is trying to be set on a copy of a slice from a DataFrame\n",
      "\n",
      "See the caveats in the documentation: https://pandas.pydata.org/pandas-docs/stable/user_guide/indexing.html#returning-a-view-versus-a-copy\n",
      "  This is separate from the ipykernel package so we can avoid doing imports until\n"
     ]
    }
   ],
   "source": [
    "for i in range(0,215):\n",
    "    if df['HSC Board'][i]=='Central':\n",
    "        df['HSC Board'][i]=1\n",
    "    else:\n",
    "        df['HSC Board'][i]=0"
   ]
  },
  {
   "cell_type": "code",
   "execution_count": 34,
   "id": "2341773c",
   "metadata": {
    "execution": {
     "iopub.execute_input": "2023-01-24T08:03:14.238987Z",
     "iopub.status.busy": "2023-01-24T08:03:14.238522Z",
     "iopub.status.idle": "2023-01-24T08:03:14.318937Z",
     "shell.execute_reply": "2023-01-24T08:03:14.317588Z"
    },
    "papermill": {
     "duration": 0.112497,
     "end_time": "2023-01-24T08:03:14.322268",
     "exception": false,
     "start_time": "2023-01-24T08:03:14.209771",
     "status": "completed"
    },
    "tags": []
   },
   "outputs": [
    {
     "name": "stderr",
     "output_type": "stream",
     "text": [
      "/opt/conda/lib/python3.7/site-packages/ipykernel_launcher.py:7: SettingWithCopyWarning: \n",
      "A value is trying to be set on a copy of a slice from a DataFrame\n",
      "\n",
      "See the caveats in the documentation: https://pandas.pydata.org/pandas-docs/stable/user_guide/indexing.html#returning-a-view-versus-a-copy\n",
      "  import sys\n",
      "/opt/conda/lib/python3.7/site-packages/ipykernel_launcher.py:3: SettingWithCopyWarning: \n",
      "A value is trying to be set on a copy of a slice from a DataFrame\n",
      "\n",
      "See the caveats in the documentation: https://pandas.pydata.org/pandas-docs/stable/user_guide/indexing.html#returning-a-view-versus-a-copy\n",
      "  This is separate from the ipykernel package so we can avoid doing imports until\n",
      "/opt/conda/lib/python3.7/site-packages/ipykernel_launcher.py:5: SettingWithCopyWarning: \n",
      "A value is trying to be set on a copy of a slice from a DataFrame\n",
      "\n",
      "See the caveats in the documentation: https://pandas.pydata.org/pandas-docs/stable/user_guide/indexing.html#returning-a-view-versus-a-copy\n",
      "  \"\"\"\n"
     ]
    }
   ],
   "source": [
    "for i in range(0,215):\n",
    "    if df['12th Stream'][i]=='Science':\n",
    "        df['12th Stream'][i]=1\n",
    "    elif(df['12th Stream'][i]=='Arts'):\n",
    "        df['12th Stream'][i]=2\n",
    "    else:\n",
    "        df['12th Stream'][i]=0"
   ]
  },
  {
   "cell_type": "code",
   "execution_count": 35,
   "id": "3def9887",
   "metadata": {
    "execution": {
     "iopub.execute_input": "2023-01-24T08:03:14.380018Z",
     "iopub.status.busy": "2023-01-24T08:03:14.379526Z",
     "iopub.status.idle": "2023-01-24T08:03:14.462514Z",
     "shell.execute_reply": "2023-01-24T08:03:14.459824Z"
    },
    "papermill": {
     "duration": 0.115358,
     "end_time": "2023-01-24T08:03:14.465378",
     "exception": false,
     "start_time": "2023-01-24T08:03:14.350020",
     "status": "completed"
    },
    "tags": []
   },
   "outputs": [
    {
     "name": "stderr",
     "output_type": "stream",
     "text": [
      "/opt/conda/lib/python3.7/site-packages/ipykernel_launcher.py:5: SettingWithCopyWarning: \n",
      "A value is trying to be set on a copy of a slice from a DataFrame\n",
      "\n",
      "See the caveats in the documentation: https://pandas.pydata.org/pandas-docs/stable/user_guide/indexing.html#returning-a-view-versus-a-copy\n",
      "  \"\"\"\n",
      "/opt/conda/lib/python3.7/site-packages/ipykernel_launcher.py:3: SettingWithCopyWarning: \n",
      "A value is trying to be set on a copy of a slice from a DataFrame\n",
      "\n",
      "See the caveats in the documentation: https://pandas.pydata.org/pandas-docs/stable/user_guide/indexing.html#returning-a-view-versus-a-copy\n",
      "  This is separate from the ipykernel package so we can avoid doing imports until\n",
      "/opt/conda/lib/python3.7/site-packages/ipykernel_launcher.py:7: SettingWithCopyWarning: \n",
      "A value is trying to be set on a copy of a slice from a DataFrame\n",
      "\n",
      "See the caveats in the documentation: https://pandas.pydata.org/pandas-docs/stable/user_guide/indexing.html#returning-a-view-versus-a-copy\n",
      "  import sys\n"
     ]
    }
   ],
   "source": [
    "for i in range(0,215):\n",
    "    if df['Degree stream'][i]=='Comm&Mgmt':\n",
    "        df['Degree stream'][i]=1\n",
    "    elif(df['Degree stream'][i]=='Sci&Tech'):\n",
    "        df['Degree stream'][i]=2\n",
    "    else:\n",
    "        df['Degree stream'][i]=0"
   ]
  },
  {
   "cell_type": "code",
   "execution_count": 36,
   "id": "b3e1d3d5",
   "metadata": {
    "execution": {
     "iopub.execute_input": "2023-01-24T08:03:14.523198Z",
     "iopub.status.busy": "2023-01-24T08:03:14.522567Z",
     "iopub.status.idle": "2023-01-24T08:03:14.597948Z",
     "shell.execute_reply": "2023-01-24T08:03:14.596461Z"
    },
    "papermill": {
     "duration": 0.108389,
     "end_time": "2023-01-24T08:03:14.601646",
     "exception": false,
     "start_time": "2023-01-24T08:03:14.493257",
     "status": "completed"
    },
    "tags": []
   },
   "outputs": [
    {
     "name": "stderr",
     "output_type": "stream",
     "text": [
      "/opt/conda/lib/python3.7/site-packages/ipykernel_launcher.py:5: SettingWithCopyWarning: \n",
      "A value is trying to be set on a copy of a slice from a DataFrame\n",
      "\n",
      "See the caveats in the documentation: https://pandas.pydata.org/pandas-docs/stable/user_guide/indexing.html#returning-a-view-versus-a-copy\n",
      "  \"\"\"\n",
      "/opt/conda/lib/python3.7/site-packages/ipykernel_launcher.py:3: SettingWithCopyWarning: \n",
      "A value is trying to be set on a copy of a slice from a DataFrame\n",
      "\n",
      "See the caveats in the documentation: https://pandas.pydata.org/pandas-docs/stable/user_guide/indexing.html#returning-a-view-versus-a-copy\n",
      "  This is separate from the ipykernel package so we can avoid doing imports until\n"
     ]
    }
   ],
   "source": [
    "for i in range(0,215):\n",
    "    if df['Work exp'][i]=='Yes':\n",
    "        df['Work exp'][i]=1\n",
    "    else:\n",
    "        df['Work exp'][i]=0"
   ]
  },
  {
   "cell_type": "code",
   "execution_count": 37,
   "id": "a73439b5",
   "metadata": {
    "execution": {
     "iopub.execute_input": "2023-01-24T08:03:14.659656Z",
     "iopub.status.busy": "2023-01-24T08:03:14.659211Z",
     "iopub.status.idle": "2023-01-24T08:03:14.738998Z",
     "shell.execute_reply": "2023-01-24T08:03:14.737305Z"
    },
    "papermill": {
     "duration": 0.112933,
     "end_time": "2023-01-24T08:03:14.742413",
     "exception": false,
     "start_time": "2023-01-24T08:03:14.629480",
     "status": "completed"
    },
    "tags": []
   },
   "outputs": [
    {
     "name": "stderr",
     "output_type": "stream",
     "text": [
      "/opt/conda/lib/python3.7/site-packages/ipykernel_launcher.py:3: SettingWithCopyWarning: \n",
      "A value is trying to be set on a copy of a slice from a DataFrame\n",
      "\n",
      "See the caveats in the documentation: https://pandas.pydata.org/pandas-docs/stable/user_guide/indexing.html#returning-a-view-versus-a-copy\n",
      "  This is separate from the ipykernel package so we can avoid doing imports until\n",
      "/opt/conda/lib/python3.7/site-packages/ipykernel_launcher.py:5: SettingWithCopyWarning: \n",
      "A value is trying to be set on a copy of a slice from a DataFrame\n",
      "\n",
      "See the caveats in the documentation: https://pandas.pydata.org/pandas-docs/stable/user_guide/indexing.html#returning-a-view-versus-a-copy\n",
      "  \"\"\"\n"
     ]
    }
   ],
   "source": [
    "for i in range(0,215):\n",
    "    if df['specialisation'][i]=='Mkt&HR':\n",
    "        df['specialisation'][i]=1\n",
    "    else:\n",
    "        df['specialisation'][i]=0"
   ]
  },
  {
   "cell_type": "code",
   "execution_count": 38,
   "id": "07e165bd",
   "metadata": {
    "execution": {
     "iopub.execute_input": "2023-01-24T08:03:14.800397Z",
     "iopub.status.busy": "2023-01-24T08:03:14.799422Z",
     "iopub.status.idle": "2023-01-24T08:03:14.879545Z",
     "shell.execute_reply": "2023-01-24T08:03:14.877476Z"
    },
    "papermill": {
     "duration": 0.11255,
     "end_time": "2023-01-24T08:03:14.882783",
     "exception": false,
     "start_time": "2023-01-24T08:03:14.770233",
     "status": "completed"
    },
    "tags": []
   },
   "outputs": [
    {
     "name": "stderr",
     "output_type": "stream",
     "text": [
      "/opt/conda/lib/python3.7/site-packages/ipykernel_launcher.py:3: SettingWithCopyWarning: \n",
      "A value is trying to be set on a copy of a slice from a DataFrame\n",
      "\n",
      "See the caveats in the documentation: https://pandas.pydata.org/pandas-docs/stable/user_guide/indexing.html#returning-a-view-versus-a-copy\n",
      "  This is separate from the ipykernel package so we can avoid doing imports until\n",
      "/opt/conda/lib/python3.7/site-packages/ipykernel_launcher.py:5: SettingWithCopyWarning: \n",
      "A value is trying to be set on a copy of a slice from a DataFrame\n",
      "\n",
      "See the caveats in the documentation: https://pandas.pydata.org/pandas-docs/stable/user_guide/indexing.html#returning-a-view-versus-a-copy\n",
      "  \"\"\"\n"
     ]
    }
   ],
   "source": [
    "for i in range(0,215):\n",
    "    if df['status'][i]=='Placed':\n",
    "        df['status'][i]=1\n",
    "    else:\n",
    "        df['status'][i]=0"
   ]
  },
  {
   "cell_type": "code",
   "execution_count": 39,
   "id": "6ca2ac88",
   "metadata": {
    "execution": {
     "iopub.execute_input": "2023-01-24T08:03:14.946203Z",
     "iopub.status.busy": "2023-01-24T08:03:14.945701Z",
     "iopub.status.idle": "2023-01-24T08:03:14.979844Z",
     "shell.execute_reply": "2023-01-24T08:03:14.978595Z"
    },
    "papermill": {
     "duration": 0.072142,
     "end_time": "2023-01-24T08:03:14.982733",
     "exception": false,
     "start_time": "2023-01-24T08:03:14.910591",
     "status": "completed"
    },
    "tags": []
   },
   "outputs": [
    {
     "data": {
      "text/html": [
       "<div>\n",
       "<style scoped>\n",
       "    .dataframe tbody tr th:only-of-type {\n",
       "        vertical-align: middle;\n",
       "    }\n",
       "\n",
       "    .dataframe tbody tr th {\n",
       "        vertical-align: top;\n",
       "    }\n",
       "\n",
       "    .dataframe thead th {\n",
       "        text-align: right;\n",
       "    }\n",
       "</style>\n",
       "<table border=\"1\" class=\"dataframe\">\n",
       "  <thead>\n",
       "    <tr style=\"text-align: right;\">\n",
       "      <th></th>\n",
       "      <th>Gender</th>\n",
       "      <th>10th %</th>\n",
       "      <th>SSC Board</th>\n",
       "      <th>12th %</th>\n",
       "      <th>HSC Board</th>\n",
       "      <th>12th Stream</th>\n",
       "      <th>Degree %</th>\n",
       "      <th>Degree stream</th>\n",
       "      <th>Work exp</th>\n",
       "      <th>specialisation</th>\n",
       "      <th>Mba %</th>\n",
       "      <th>status</th>\n",
       "    </tr>\n",
       "  </thead>\n",
       "  <tbody>\n",
       "    <tr>\n",
       "      <th>0</th>\n",
       "      <td>1</td>\n",
       "      <td>67.00</td>\n",
       "      <td>0</td>\n",
       "      <td>91.00</td>\n",
       "      <td>0</td>\n",
       "      <td>0</td>\n",
       "      <td>58.00</td>\n",
       "      <td>2</td>\n",
       "      <td>0</td>\n",
       "      <td>1</td>\n",
       "      <td>58.80</td>\n",
       "      <td>1</td>\n",
       "    </tr>\n",
       "    <tr>\n",
       "      <th>1</th>\n",
       "      <td>1</td>\n",
       "      <td>79.33</td>\n",
       "      <td>1</td>\n",
       "      <td>78.33</td>\n",
       "      <td>0</td>\n",
       "      <td>1</td>\n",
       "      <td>77.48</td>\n",
       "      <td>2</td>\n",
       "      <td>1</td>\n",
       "      <td>0</td>\n",
       "      <td>66.28</td>\n",
       "      <td>1</td>\n",
       "    </tr>\n",
       "    <tr>\n",
       "      <th>2</th>\n",
       "      <td>1</td>\n",
       "      <td>65.00</td>\n",
       "      <td>1</td>\n",
       "      <td>68.00</td>\n",
       "      <td>1</td>\n",
       "      <td>2</td>\n",
       "      <td>64.00</td>\n",
       "      <td>1</td>\n",
       "      <td>0</td>\n",
       "      <td>0</td>\n",
       "      <td>57.80</td>\n",
       "      <td>1</td>\n",
       "    </tr>\n",
       "    <tr>\n",
       "      <th>3</th>\n",
       "      <td>1</td>\n",
       "      <td>56.00</td>\n",
       "      <td>1</td>\n",
       "      <td>52.00</td>\n",
       "      <td>1</td>\n",
       "      <td>1</td>\n",
       "      <td>52.00</td>\n",
       "      <td>2</td>\n",
       "      <td>0</td>\n",
       "      <td>1</td>\n",
       "      <td>59.43</td>\n",
       "      <td>0</td>\n",
       "    </tr>\n",
       "    <tr>\n",
       "      <th>4</th>\n",
       "      <td>1</td>\n",
       "      <td>85.80</td>\n",
       "      <td>1</td>\n",
       "      <td>73.60</td>\n",
       "      <td>1</td>\n",
       "      <td>0</td>\n",
       "      <td>73.30</td>\n",
       "      <td>1</td>\n",
       "      <td>0</td>\n",
       "      <td>0</td>\n",
       "      <td>55.50</td>\n",
       "      <td>1</td>\n",
       "    </tr>\n",
       "    <tr>\n",
       "      <th>...</th>\n",
       "      <td>...</td>\n",
       "      <td>...</td>\n",
       "      <td>...</td>\n",
       "      <td>...</td>\n",
       "      <td>...</td>\n",
       "      <td>...</td>\n",
       "      <td>...</td>\n",
       "      <td>...</td>\n",
       "      <td>...</td>\n",
       "      <td>...</td>\n",
       "      <td>...</td>\n",
       "      <td>...</td>\n",
       "    </tr>\n",
       "    <tr>\n",
       "      <th>210</th>\n",
       "      <td>1</td>\n",
       "      <td>80.60</td>\n",
       "      <td>0</td>\n",
       "      <td>82.00</td>\n",
       "      <td>0</td>\n",
       "      <td>0</td>\n",
       "      <td>77.60</td>\n",
       "      <td>1</td>\n",
       "      <td>0</td>\n",
       "      <td>0</td>\n",
       "      <td>74.49</td>\n",
       "      <td>1</td>\n",
       "    </tr>\n",
       "    <tr>\n",
       "      <th>211</th>\n",
       "      <td>1</td>\n",
       "      <td>58.00</td>\n",
       "      <td>0</td>\n",
       "      <td>60.00</td>\n",
       "      <td>0</td>\n",
       "      <td>1</td>\n",
       "      <td>72.00</td>\n",
       "      <td>2</td>\n",
       "      <td>0</td>\n",
       "      <td>0</td>\n",
       "      <td>53.62</td>\n",
       "      <td>1</td>\n",
       "    </tr>\n",
       "    <tr>\n",
       "      <th>212</th>\n",
       "      <td>1</td>\n",
       "      <td>67.00</td>\n",
       "      <td>0</td>\n",
       "      <td>67.00</td>\n",
       "      <td>0</td>\n",
       "      <td>0</td>\n",
       "      <td>73.00</td>\n",
       "      <td>1</td>\n",
       "      <td>1</td>\n",
       "      <td>0</td>\n",
       "      <td>69.72</td>\n",
       "      <td>1</td>\n",
       "    </tr>\n",
       "    <tr>\n",
       "      <th>213</th>\n",
       "      <td>0</td>\n",
       "      <td>74.00</td>\n",
       "      <td>0</td>\n",
       "      <td>66.00</td>\n",
       "      <td>0</td>\n",
       "      <td>0</td>\n",
       "      <td>58.00</td>\n",
       "      <td>1</td>\n",
       "      <td>0</td>\n",
       "      <td>1</td>\n",
       "      <td>60.23</td>\n",
       "      <td>1</td>\n",
       "    </tr>\n",
       "    <tr>\n",
       "      <th>214</th>\n",
       "      <td>1</td>\n",
       "      <td>62.00</td>\n",
       "      <td>1</td>\n",
       "      <td>58.00</td>\n",
       "      <td>0</td>\n",
       "      <td>1</td>\n",
       "      <td>53.00</td>\n",
       "      <td>1</td>\n",
       "      <td>0</td>\n",
       "      <td>1</td>\n",
       "      <td>60.22</td>\n",
       "      <td>0</td>\n",
       "    </tr>\n",
       "  </tbody>\n",
       "</table>\n",
       "<p>215 rows × 12 columns</p>\n",
       "</div>"
      ],
      "text/plain": [
       "    Gender  10th % SSC Board  12th % HSC Board 12th Stream  Degree %  \\\n",
       "0        1   67.00         0   91.00         0           0     58.00   \n",
       "1        1   79.33         1   78.33         0           1     77.48   \n",
       "2        1   65.00         1   68.00         1           2     64.00   \n",
       "3        1   56.00         1   52.00         1           1     52.00   \n",
       "4        1   85.80         1   73.60         1           0     73.30   \n",
       "..     ...     ...       ...     ...       ...         ...       ...   \n",
       "210      1   80.60         0   82.00         0           0     77.60   \n",
       "211      1   58.00         0   60.00         0           1     72.00   \n",
       "212      1   67.00         0   67.00         0           0     73.00   \n",
       "213      0   74.00         0   66.00         0           0     58.00   \n",
       "214      1   62.00         1   58.00         0           1     53.00   \n",
       "\n",
       "    Degree stream Work exp specialisation  Mba % status  \n",
       "0               2        0              1  58.80      1  \n",
       "1               2        1              0  66.28      1  \n",
       "2               1        0              0  57.80      1  \n",
       "3               2        0              1  59.43      0  \n",
       "4               1        0              0  55.50      1  \n",
       "..            ...      ...            ...    ...    ...  \n",
       "210             1        0              0  74.49      1  \n",
       "211             2        0              0  53.62      1  \n",
       "212             1        1              0  69.72      1  \n",
       "213             1        0              1  60.23      1  \n",
       "214             1        0              1  60.22      0  \n",
       "\n",
       "[215 rows x 12 columns]"
      ]
     },
     "execution_count": 39,
     "metadata": {},
     "output_type": "execute_result"
    }
   ],
   "source": [
    "df"
   ]
  },
  {
   "cell_type": "markdown",
   "id": "aedb58fa",
   "metadata": {
    "papermill": {
     "duration": 0.027892,
     "end_time": "2023-01-24T08:03:15.039926",
     "exception": false,
     "start_time": "2023-01-24T08:03:15.012034",
     "status": "completed"
    },
    "tags": []
   },
   "source": [
    "# Train Test Split"
   ]
  },
  {
   "cell_type": "code",
   "execution_count": 40,
   "id": "d8bdb696",
   "metadata": {
    "execution": {
     "iopub.execute_input": "2023-01-24T08:03:15.099810Z",
     "iopub.status.busy": "2023-01-24T08:03:15.098778Z",
     "iopub.status.idle": "2023-01-24T08:03:15.108040Z",
     "shell.execute_reply": "2023-01-24T08:03:15.106822Z"
    },
    "papermill": {
     "duration": 0.04154,
     "end_time": "2023-01-24T08:03:15.110711",
     "exception": false,
     "start_time": "2023-01-24T08:03:15.069171",
     "status": "completed"
    },
    "tags": []
   },
   "outputs": [],
   "source": [
    "x_train,x_test,y_train,y_test=train_test_split(df.iloc[:,0:11],df.iloc[:,-1],test_size=0.3,random_state=42)"
   ]
  },
  {
   "cell_type": "markdown",
   "id": "d0537b6c",
   "metadata": {
    "papermill": {
     "duration": 0.028605,
     "end_time": "2023-01-24T08:03:15.167536",
     "exception": false,
     "start_time": "2023-01-24T08:03:15.138931",
     "status": "completed"
    },
    "tags": []
   },
   "source": [
    "# Applying Decision Tree Classifier for Prediction"
   ]
  },
  {
   "cell_type": "code",
   "execution_count": 41,
   "id": "d789c063",
   "metadata": {
    "execution": {
     "iopub.execute_input": "2023-01-24T08:03:15.225959Z",
     "iopub.status.busy": "2023-01-24T08:03:15.225447Z",
     "iopub.status.idle": "2023-01-24T08:03:15.396928Z",
     "shell.execute_reply": "2023-01-24T08:03:15.395417Z"
    },
    "papermill": {
     "duration": 0.204714,
     "end_time": "2023-01-24T08:03:15.400094",
     "exception": false,
     "start_time": "2023-01-24T08:03:15.195380",
     "status": "completed"
    },
    "tags": []
   },
   "outputs": [],
   "source": [
    "from sklearn.tree import DecisionTreeClassifier"
   ]
  },
  {
   "cell_type": "code",
   "execution_count": 42,
   "id": "a153b498",
   "metadata": {
    "execution": {
     "iopub.execute_input": "2023-01-24T08:03:15.458623Z",
     "iopub.status.busy": "2023-01-24T08:03:15.458156Z",
     "iopub.status.idle": "2023-01-24T08:03:15.463661Z",
     "shell.execute_reply": "2023-01-24T08:03:15.462492Z"
    },
    "papermill": {
     "duration": 0.037562,
     "end_time": "2023-01-24T08:03:15.466019",
     "exception": false,
     "start_time": "2023-01-24T08:03:15.428457",
     "status": "completed"
    },
    "tags": []
   },
   "outputs": [],
   "source": [
    "clf=DecisionTreeClassifier()\n",
    "y_train=y_train.astype(int)\n"
   ]
  },
  {
   "cell_type": "code",
   "execution_count": 43,
   "id": "5e2352a7",
   "metadata": {
    "execution": {
     "iopub.execute_input": "2023-01-24T08:03:15.525389Z",
     "iopub.status.busy": "2023-01-24T08:03:15.524903Z",
     "iopub.status.idle": "2023-01-24T08:03:15.538631Z",
     "shell.execute_reply": "2023-01-24T08:03:15.537238Z"
    },
    "papermill": {
     "duration": 0.047936,
     "end_time": "2023-01-24T08:03:15.542205",
     "exception": false,
     "start_time": "2023-01-24T08:03:15.494269",
     "status": "completed"
    },
    "tags": []
   },
   "outputs": [
    {
     "data": {
      "text/plain": [
       "DecisionTreeClassifier()"
      ]
     },
     "execution_count": 43,
     "metadata": {},
     "output_type": "execute_result"
    }
   ],
   "source": [
    "clf.fit(x_train,y_train)"
   ]
  },
  {
   "cell_type": "code",
   "execution_count": 44,
   "id": "283522be",
   "metadata": {
    "execution": {
     "iopub.execute_input": "2023-01-24T08:03:15.599882Z",
     "iopub.status.busy": "2023-01-24T08:03:15.599427Z",
     "iopub.status.idle": "2023-01-24T08:03:15.607519Z",
     "shell.execute_reply": "2023-01-24T08:03:15.606351Z"
    },
    "papermill": {
     "duration": 0.040167,
     "end_time": "2023-01-24T08:03:15.610452",
     "exception": false,
     "start_time": "2023-01-24T08:03:15.570285",
     "status": "completed"
    },
    "tags": []
   },
   "outputs": [],
   "source": [
    "clf_pred=clf.predict(x_test)"
   ]
  },
  {
   "cell_type": "code",
   "execution_count": 45,
   "id": "d916c4a3",
   "metadata": {
    "execution": {
     "iopub.execute_input": "2023-01-24T08:03:15.668523Z",
     "iopub.status.busy": "2023-01-24T08:03:15.668070Z",
     "iopub.status.idle": "2023-01-24T08:03:15.673732Z",
     "shell.execute_reply": "2023-01-24T08:03:15.672703Z"
    },
    "papermill": {
     "duration": 0.039319,
     "end_time": "2023-01-24T08:03:15.677400",
     "exception": false,
     "start_time": "2023-01-24T08:03:15.638081",
     "status": "completed"
    },
    "tags": []
   },
   "outputs": [],
   "source": [
    "y_test=y_test.astype(int)"
   ]
  },
  {
   "cell_type": "code",
   "execution_count": 46,
   "id": "37eeb092",
   "metadata": {
    "execution": {
     "iopub.execute_input": "2023-01-24T08:03:15.734476Z",
     "iopub.status.busy": "2023-01-24T08:03:15.733996Z",
     "iopub.status.idle": "2023-01-24T08:03:15.914774Z",
     "shell.execute_reply": "2023-01-24T08:03:15.913469Z"
    },
    "papermill": {
     "duration": 0.212524,
     "end_time": "2023-01-24T08:03:15.917428",
     "exception": false,
     "start_time": "2023-01-24T08:03:15.704904",
     "status": "completed"
    },
    "tags": []
   },
   "outputs": [
    {
     "data": {
      "text/plain": [
       "array([1, 1, 1, 1, 1, 0, 0, 1, 1, 1, 1, 1, 0, 0, 1, 1, 1, 1, 0, 1, 1, 1,\n",
       "       1, 0, 1, 1, 0, 1, 1, 1, 1, 1, 1, 1, 1, 1, 1, 1, 1, 1, 1, 1, 1, 0,\n",
       "       1, 1, 1, 1, 1, 1, 1, 1, 0, 0, 0, 0, 1, 1, 1, 1, 1, 0, 0, 0, 0])"
      ]
     },
     "execution_count": 46,
     "metadata": {},
     "output_type": "execute_result"
    }
   ],
   "source": [
    "clf_pred"
   ]
  },
  {
   "cell_type": "code",
   "execution_count": 47,
   "id": "7450d9e6",
   "metadata": {
    "execution": {
     "iopub.execute_input": "2023-01-24T08:03:15.977028Z",
     "iopub.status.busy": "2023-01-24T08:03:15.976592Z",
     "iopub.status.idle": "2023-01-24T08:03:15.983395Z",
     "shell.execute_reply": "2023-01-24T08:03:15.982194Z"
    },
    "papermill": {
     "duration": 0.039067,
     "end_time": "2023-01-24T08:03:15.985905",
     "exception": false,
     "start_time": "2023-01-24T08:03:15.946838",
     "status": "completed"
    },
    "tags": []
   },
   "outputs": [],
   "source": [
    "from sklearn.metrics import f1_score\n",
    "from sklearn.metrics import confusion_matrix\n",
    "lr_cm= confusion_matrix(y_test, clf_pred)"
   ]
  },
  {
   "cell_type": "markdown",
   "id": "0e1b708b",
   "metadata": {
    "papermill": {
     "duration": 0.027644,
     "end_time": "2023-01-24T08:03:16.041861",
     "exception": false,
     "start_time": "2023-01-24T08:03:16.014217",
     "status": "completed"
    },
    "tags": []
   },
   "source": [
    "# Got 86% Accuracy"
   ]
  },
  {
   "cell_type": "code",
   "execution_count": 48,
   "id": "22bedf71",
   "metadata": {
    "execution": {
     "iopub.execute_input": "2023-01-24T08:03:16.100743Z",
     "iopub.status.busy": "2023-01-24T08:03:16.100298Z",
     "iopub.status.idle": "2023-01-24T08:03:16.111358Z",
     "shell.execute_reply": "2023-01-24T08:03:16.110167Z"
    },
    "papermill": {
     "duration": 0.044201,
     "end_time": "2023-01-24T08:03:16.114154",
     "exception": false,
     "start_time": "2023-01-24T08:03:16.069953",
     "status": "completed"
    },
    "tags": []
   },
   "outputs": [
    {
     "data": {
      "text/plain": [
       "0.8817204301075268"
      ]
     },
     "execution_count": 48,
     "metadata": {},
     "output_type": "execute_result"
    }
   ],
   "source": [
    "f1_score(y_test,clf_pred)"
   ]
  }
 ],
 "metadata": {
  "kernelspec": {
   "display_name": "Python 3",
   "language": "python",
   "name": "python3"
  },
  "language_info": {
   "codemirror_mode": {
    "name": "ipython",
    "version": 3
   },
   "file_extension": ".py",
   "mimetype": "text/x-python",
   "name": "python",
   "nbconvert_exporter": "python",
   "pygments_lexer": "ipython3",
   "version": "3.7.12"
  },
  "papermill": {
   "default_parameters": {},
   "duration": 25.016327,
   "end_time": "2023-01-24T08:03:17.168912",
   "environment_variables": {},
   "exception": null,
   "input_path": "__notebook__.ipynb",
   "output_path": "__notebook__.ipynb",
   "parameters": {},
   "start_time": "2023-01-24T08:02:52.152585",
   "version": "2.3.4"
  }
 },
 "nbformat": 4,
 "nbformat_minor": 5
}
